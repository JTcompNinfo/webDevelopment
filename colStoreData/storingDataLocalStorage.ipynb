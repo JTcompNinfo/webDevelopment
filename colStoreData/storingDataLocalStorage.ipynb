{
 "cells": [
  {
   "cell_type": "markdown",
   "metadata": {},
   "source": [
    "# Storing Data with Local Storage   "
   ]
  },
  {
   "cell_type": "markdown",
   "metadata": {},
   "source": [
    "### 3 Main Types of storgae\n",
    "\n",
    "* Cookies\n",
    "* Session Storage\n",
    "* Local Storage"
   ]
  },
  {
   "cell_type": "code",
   "execution_count": null,
   "metadata": {
    "vscode": {
     "languageId": "javascript"
    }
   },
   "outputs": [],
   "source": [
    "var name = prompt(\"eneter your first name: \");\n",
    "\n",
    "/* This can be store as a key: value pair in local storage\n",
    "'name': 'David' */"
   ]
  },
  {
   "cell_type": "code",
   "execution_count": null,
   "metadata": {
    "vscode": {
     "languageId": "javascript"
    }
   },
   "outputs": [],
   "source": [
    "/* The javescript keyword to store data */\n",
    "localStorage.setItem(\"key\", \"value\");"
   ]
  },
  {
   "cell_type": "code",
   "execution_count": null,
   "metadata": {
    "vscode": {
     "languageId": "javascript"
    }
   },
   "outputs": [],
   "source": [
    "/* Reterive and store data in a variable with Key:Value re;ationship */\n",
    "\n",
    "var fName = prompt(\"Enter your first name: \");\n",
    "\n",
    "localStorage.setItem(\"user\", fName);\n",
    "\n",
    "/* To retrive the data that is in local storage */\n",
    "\n",
    "var retriveName = localStorage.getItem(\"user\");\n",
    "var retriveName = localStorage.user;"
   ]
  },
  {
   "cell_type": "markdown",
   "metadata": {},
   "source": [
    "### null Datat Type\n",
    "<font color=\"red\">null</font> - an absence of data, no data exists\n",
    "\n",
    "The null data type is returned when you use getItem(key) and the datta does not exist.\n",
    "\n",
    "HOWEVER, if you use getItem.key and the data does not exist, it will Return: <b>undefined</b>"
   ]
  },
  {
   "cell_type": "markdown",
   "metadata": {},
   "source": [
    "Whether it is NULL or UNDEFINED - the expression evaluates to <b>false</b>\n",
    "\n",
    "BOTH:\n",
    "if (localStorage.getItem(\"key)) and if (localStorage.key)\n",
    "\n",
    "will evaluate FALSE if the key does not exist yet!"
   ]
  }
 ],
 "metadata": {
  "language_info": {
   "name": "python"
  }
 },
 "nbformat": 4,
 "nbformat_minor": 2
}
